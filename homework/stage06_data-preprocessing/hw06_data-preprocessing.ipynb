{
 "cells": [
  {
   "cell_type": "code",
   "execution_count": 22,
   "id": "f3626570",
   "metadata": {},
   "outputs": [
    {
     "name": "stdout",
     "output_type": "stream",
     "text": [
      "Using raw file: data/raw/api_yfinance_GOOG_20250827-0320.csv\n",
      "<class 'pandas.core.frame.DataFrame'>\n",
      "RangeIndex: 10 entries, 0 to 9\n",
      "Data columns (total 6 columns):\n",
      " #   Column       Non-Null Count  Dtype  \n",
      "---  ------       --------------  -----  \n",
      " 0   id           10 non-null     int64  \n",
      " 1   date         10 non-null     object \n",
      " 2   temperature  7 non-null      float64\n",
      " 3   humidity     7 non-null      float64\n",
      " 4   price        9 non-null      object \n",
      " 5   category     10 non-null     object \n",
      "dtypes: float64(2), int64(1), object(3)\n",
      "memory usage: 608.0+ bytes\n"
     ]
    },
    {
     "data": {
      "text/html": [
       "<div>\n",
       "<style scoped>\n",
       "    .dataframe tbody tr th:only-of-type {\n",
       "        vertical-align: middle;\n",
       "    }\n",
       "\n",
       "    .dataframe tbody tr th {\n",
       "        vertical-align: top;\n",
       "    }\n",
       "\n",
       "    .dataframe thead th {\n",
       "        text-align: right;\n",
       "    }\n",
       "</style>\n",
       "<table border=\"1\" class=\"dataframe\">\n",
       "  <thead>\n",
       "    <tr style=\"text-align: right;\">\n",
       "      <th></th>\n",
       "      <th>id</th>\n",
       "      <th>date</th>\n",
       "      <th>temperature</th>\n",
       "      <th>humidity</th>\n",
       "      <th>price</th>\n",
       "      <th>category</th>\n",
       "    </tr>\n",
       "  </thead>\n",
       "  <tbody>\n",
       "    <tr>\n",
       "      <th>0</th>\n",
       "      <td>1</td>\n",
       "      <td>2023-01-01</td>\n",
       "      <td>25.3</td>\n",
       "      <td>45.0</td>\n",
       "      <td>100</td>\n",
       "      <td>A</td>\n",
       "    </tr>\n",
       "    <tr>\n",
       "      <th>1</th>\n",
       "      <td>2</td>\n",
       "      <td>2023-01-02</td>\n",
       "      <td>NaN</td>\n",
       "      <td>55.0</td>\n",
       "      <td>105</td>\n",
       "      <td>B</td>\n",
       "    </tr>\n",
       "    <tr>\n",
       "      <th>2</th>\n",
       "      <td>3</td>\n",
       "      <td>2023-01-03</td>\n",
       "      <td>27.1</td>\n",
       "      <td>NaN</td>\n",
       "      <td>NaN</td>\n",
       "      <td>A</td>\n",
       "    </tr>\n",
       "    <tr>\n",
       "      <th>3</th>\n",
       "      <td>4</td>\n",
       "      <td>2023-01-04</td>\n",
       "      <td>29.0</td>\n",
       "      <td>60.0</td>\n",
       "      <td>112</td>\n",
       "      <td>B</td>\n",
       "    </tr>\n",
       "    <tr>\n",
       "      <th>4</th>\n",
       "      <td>5</td>\n",
       "      <td>2023-01-05</td>\n",
       "      <td>NaN</td>\n",
       "      <td>65.0</td>\n",
       "      <td>115</td>\n",
       "      <td>C</td>\n",
       "    </tr>\n",
       "  </tbody>\n",
       "</table>\n",
       "</div>"
      ],
      "text/plain": [
       "   id        date  temperature  humidity price category\n",
       "0   1  2023-01-01         25.3      45.0   100        A\n",
       "1   2  2023-01-02          NaN      55.0   105        B\n",
       "2   3  2023-01-03         27.1       NaN   NaN        A\n",
       "3   4  2023-01-04         29.0      60.0   112        B\n",
       "4   5  2023-01-05          NaN      65.0   115        C"
      ]
     },
     "execution_count": 22,
     "metadata": {},
     "output_type": "execute_result"
    }
   ],
   "source": [
    "import pandas as pd\n",
    "from pathlib import Path\n",
    "import sys\n",
    "\n",
    "# import cleaning helpers\n",
    "sys.path.append(\"src\")\n",
    "from src.cleaning import fill_missing_median, drop_missing, normalize_data\n",
    "\n",
    "BASE = Path(\"data\")\n",
    "RAW = BASE / \"raw\"\n",
    "PROCESSED = BASE / \"processed\"\n",
    "PROCESSED.mkdir(parents=True, exist_ok=True)\n",
    "\n",
    "RAW_FILE = next(RAW.glob(\"*.csv\"))  # pick the latest raw CSV you produced in Stage 4\n",
    "df_raw = pd.read_csv(RAW_FILE, low_memory=False)\n",
    "\n",
    "print(\"Using raw file:\", RAW_FILE)\n",
    "df_raw.info()\n",
    "df_raw.head()"
   ]
  },
  {
   "cell_type": "code",
   "execution_count": 23,
   "id": "84ba5215",
   "metadata": {},
   "outputs": [],
   "source": [
    "# 1) fill numeric NAs with median\n",
    "df1 = fill_missing_median(df_raw)\n",
    "\n",
    "# 2) drop remaining rows with any NA (simple, easy to explain)\n",
    "df2 = drop_missing(df1, how=\"any\")\n",
    "\n",
    "# 3) normalize numeric columns (use 'standard' per reading; switch to 'minmax' if you prefer)\n",
    "df_clean = normalize_data(df2, method=\"standard\")"
   ]
  },
  {
   "cell_type": "code",
   "execution_count": 24,
   "id": "020afa2f",
   "metadata": {},
   "outputs": [
    {
     "name": "stdout",
     "output_type": "stream",
     "text": [
      "Original shape: (10, 6)\n",
      "Cleaned  shape: (9, 6)\n",
      "\n",
      "Missing per column (original):\n",
      "id             0\n",
      "date           0\n",
      "temperature    3\n",
      "humidity       3\n",
      "price          1\n",
      "category       0\n",
      "dtype: int64\n",
      "\n",
      "Missing per column (cleaned):\n",
      "id             0\n",
      "date           0\n",
      "temperature    0\n",
      "humidity       0\n",
      "price          0\n",
      "category       0\n",
      "dtype: int64\n",
      "\n",
      "Example column: id\n",
      "Original mean/std: 5.500 / 2.872\n",
      "Cleaned  mean/std: 0.000 / 1.000\n"
     ]
    }
   ],
   "source": [
    "print(\"Original shape:\", df_raw.shape)\n",
    "print(\"Cleaned  shape:\", df_clean.shape)\n",
    "\n",
    "print(\"\\nMissing per column (original):\")\n",
    "print(df_raw.isna().sum())\n",
    "\n",
    "print(\"\\nMissing per column (cleaned):\")\n",
    "print(df_clean.isna().sum())\n",
    "\n",
    "num_cols = df_raw.select_dtypes(include=\"number\").columns\n",
    "if len(num_cols):\n",
    "    col = num_cols[0]\n",
    "    print(f\"\\nExample column: {col}\")\n",
    "    print(f\"Original mean/std: {df_raw[col].mean():.3f} / {df_raw[col].std(ddof=0):.3f}\")\n",
    "    print(f\"Cleaned  mean/std: {df_clean[col].mean():.3f} / {df_clean[col].std(ddof=0):.3f}\")"
   ]
  },
  {
   "cell_type": "code",
   "execution_count": 25,
   "id": "e43d2dc1",
   "metadata": {},
   "outputs": [
    {
     "name": "stdout",
     "output_type": "stream",
     "text": [
      "Saved: data/processed/cleaned.csv\n"
     ]
    }
   ],
   "source": [
    "out_path = PROCESSED / \"cleaned.csv\"\n",
    "df_clean.to_csv(out_path, index=False)\n",
    "print(\"Saved:\", out_path)"
   ]
  }
 ],
 "metadata": {
  "kernelspec": {
   "display_name": "bootcamp_env",
   "language": "python",
   "name": "python3"
  },
  "language_info": {
   "codemirror_mode": {
    "name": "ipython",
    "version": 3
   },
   "file_extension": ".py",
   "mimetype": "text/x-python",
   "name": "python",
   "nbconvert_exporter": "python",
   "pygments_lexer": "ipython3",
   "version": "3.10.18"
  }
 },
 "nbformat": 4,
 "nbformat_minor": 5
}
