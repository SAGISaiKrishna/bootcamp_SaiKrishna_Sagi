{
 "cells": [
  {
   "cell_type": "code",
   "execution_count": 32,
   "id": "6d01c725",
   "metadata": {},
   "outputs": [],
   "source": [
    "import numpy as np, pandas as pd, matplotlib.pyplot as plt\n",
    "from pathlib import Path\n",
    "\n",
    "# create folders\n",
    "RAW = Path(\"data/raw\"); FIGS = Path(\"figures\"); REPORTS = Path(\"reports\")\n",
    "for p in [RAW, FIGS, REPORTS]:\n",
    "    p.mkdir(parents=True, exist_ok=True)\n",
    "\n",
    "np.random.seed(8)\n",
    "pd.set_option(\"display.max_columns\", 100)"
   ]
  },
  {
   "cell_type": "code",
   "execution_count": 33,
   "id": "255f86f7",
   "metadata": {},
   "outputs": [
    {
     "name": "stdout",
     "output_type": "stream",
     "text": [
      "Wrote: data/raw/eda_homework.csv\n"
     ]
    },
    {
     "data": {
      "text/html": [
       "<div>\n",
       "<style scoped>\n",
       "    .dataframe tbody tr th:only-of-type {\n",
       "        vertical-align: middle;\n",
       "    }\n",
       "\n",
       "    .dataframe tbody tr th {\n",
       "        vertical-align: top;\n",
       "    }\n",
       "\n",
       "    .dataframe thead th {\n",
       "        text-align: right;\n",
       "    }\n",
       "</style>\n",
       "<table border=\"1\" class=\"dataframe\">\n",
       "  <thead>\n",
       "    <tr style=\"text-align: right;\">\n",
       "      <th></th>\n",
       "      <th>date</th>\n",
       "      <th>region</th>\n",
       "      <th>age</th>\n",
       "      <th>income</th>\n",
       "      <th>transactions</th>\n",
       "      <th>spend</th>\n",
       "    </tr>\n",
       "  </thead>\n",
       "  <tbody>\n",
       "    <tr>\n",
       "      <th>0</th>\n",
       "      <td>2021-02-01</td>\n",
       "      <td>West</td>\n",
       "      <td>37.6</td>\n",
       "      <td>28086.81</td>\n",
       "      <td>4</td>\n",
       "      <td>73.35</td>\n",
       "    </tr>\n",
       "    <tr>\n",
       "      <th>1</th>\n",
       "      <td>2021-02-02</td>\n",
       "      <td>North</td>\n",
       "      <td>43.0</td>\n",
       "      <td>33034.75</td>\n",
       "      <td>1</td>\n",
       "      <td>52.37</td>\n",
       "    </tr>\n",
       "    <tr>\n",
       "      <th>2</th>\n",
       "      <td>2021-02-03</td>\n",
       "      <td>South</td>\n",
       "      <td>38.2</td>\n",
       "      <td>50045.39</td>\n",
       "      <td>2</td>\n",
       "      <td>131.85</td>\n",
       "    </tr>\n",
       "    <tr>\n",
       "      <th>3</th>\n",
       "      <td>2021-02-04</td>\n",
       "      <td>South</td>\n",
       "      <td>24.9</td>\n",
       "      <td>39467.28</td>\n",
       "      <td>4</td>\n",
       "      <td>147.58</td>\n",
       "    </tr>\n",
       "    <tr>\n",
       "      <th>4</th>\n",
       "      <td>2021-02-05</td>\n",
       "      <td>South</td>\n",
       "      <td>59.8</td>\n",
       "      <td>31201.65</td>\n",
       "      <td>1</td>\n",
       "      <td>86.76</td>\n",
       "    </tr>\n",
       "  </tbody>\n",
       "</table>\n",
       "</div>"
      ],
      "text/plain": [
       "        date region   age    income  transactions   spend\n",
       "0 2021-02-01   West  37.6  28086.81             4   73.35\n",
       "1 2021-02-02  North  43.0  33034.75             1   52.37\n",
       "2 2021-02-03  South  38.2  50045.39             2  131.85\n",
       "3 2021-02-04  South  24.9  39467.28             4  147.58\n",
       "4 2021-02-05  South  59.8  31201.65             1   86.76"
      ]
     },
     "execution_count": 33,
     "metadata": {},
     "output_type": "execute_result"
    }
   ],
   "source": [
    "n = 160\n",
    "df = pd.DataFrame({\n",
    "    \"date\": pd.date_range(\"2021-02-01\", periods=n, freq=\"D\"),\n",
    "    \"region\": np.random.choice([\"North\",\"South\",\"East\",\"West\"], size=n),\n",
    "    \"age\": np.random.normal(40, 8, size=n).clip(22, 70).round(1),\n",
    "    \"income\": np.random.lognormal(mean=10.6, sigma=0.3, size=n).round(2),\n",
    "    \"transactions\": np.random.poisson(lam=3, size=n),\n",
    "})\n",
    "base = df[\"income\"]*0.0015 + df[\"transactions\"]*18 + np.random.normal(0,40,size=n)\n",
    "df[\"spend\"] = np.maximum(0, base).round(2)\n",
    "\n",
    "# inject missingness and outliers\n",
    "df.loc[np.random.choice(df.index, 5, replace=False), \"income\"] = np.nan\n",
    "df.loc[np.random.choice(df.index, 3, replace=False), \"spend\"] = np.nan\n",
    "df.loc[np.random.choice(df.index, 2, replace=False), \"transactions\"] = df[\"transactions\"].max()+12\n",
    "\n",
    "# save raw\n",
    "csv_path = RAW/\"eda_homework.csv\"\n",
    "df.to_csv(csv_path, index=False)\n",
    "print(\"Wrote:\", csv_path)\n",
    "df.head()"
   ]
  },
  {
   "cell_type": "code",
   "execution_count": 34,
   "id": "0f01a478",
   "metadata": {},
   "outputs": [
    {
     "name": "stdout",
     "output_type": "stream",
     "text": [
      "<class 'pandas.core.frame.DataFrame'>\n",
      "RangeIndex: 160 entries, 0 to 159\n",
      "Data columns (total 6 columns):\n",
      " #   Column        Non-Null Count  Dtype         \n",
      "---  ------        --------------  -----         \n",
      " 0   date          160 non-null    datetime64[ns]\n",
      " 1   region        160 non-null    object        \n",
      " 2   age           160 non-null    float64       \n",
      " 3   income        155 non-null    float64       \n",
      " 4   transactions  160 non-null    int64         \n",
      " 5   spend         157 non-null    float64       \n",
      "dtypes: datetime64[ns](1), float64(3), int64(1), object(1)\n",
      "memory usage: 7.6+ KB\n"
     ]
    },
    {
     "data": {
      "text/plain": [
       "date            0\n",
       "region          0\n",
       "age             0\n",
       "income          5\n",
       "transactions    0\n",
       "spend           3\n",
       "dtype: int64"
      ]
     },
     "execution_count": 34,
     "metadata": {},
     "output_type": "execute_result"
    }
   ],
   "source": [
    "df.info()\n",
    "df.isna().sum()"
   ]
  },
  {
   "cell_type": "code",
   "execution_count": 35,
   "id": "d45df8af",
   "metadata": {},
   "outputs": [],
   "source": [
    "num_cols = [\"age\",\"income\",\"transactions\",\"spend\"]\n",
    "desc = df[num_cols].describe().T\n",
    "desc[\"skew\"] = df[num_cols].skew()\n",
    "desc[\"kurtosis\"] = df[num_cols].kurtosis()\n",
    "desc\n",
    "\n",
    "# save to reports\n",
    "desc.to_csv(REPORTS/\"stage08_numeric_profile.csv\")\n",
    "df.isna().sum().to_csv(REPORTS/\"stage08_missing_counts.csv\")"
   ]
  },
  {
   "cell_type": "code",
   "execution_count": 36,
   "id": "21aad61c",
   "metadata": {},
   "outputs": [
    {
     "name": "stdout",
     "output_type": "stream",
     "text": [
      "Saved figures/hist_income.png\n",
      "Saved figures/hist_spend.png\n",
      "Saved figures/hist_age.png\n",
      "Saved figures/box_transactions.png\n",
      "Saved figures/scatter_spend_vs_income.png\n",
      "Saved figures/scatter_spend_vs_age.png\n",
      "Saved figures/corr_matrix.png\n"
     ]
    },
    {
     "name": "stderr",
     "output_type": "stream",
     "text": [
      "/var/folders/8g/r2s0bn6n5wx0xhj9rhghd0w80000gn/T/ipykernel_21427/1562200625.py:18: MatplotlibDeprecationWarning: The 'labels' parameter of boxplot() has been renamed 'tick_labels' since Matplotlib 3.9; support for the old name will be dropped in 3.11.\n",
      "  ax.boxplot(df[\"transactions\"].dropna(), vert=True, labels=[\"transactions\"])\n"
     ]
    }
   ],
   "source": [
    "def save_current(fig, name):\n",
    "    out = FIGS/name\n",
    "    fig.tight_layout()\n",
    "    fig.savefig(out, dpi=150)\n",
    "    plt.close(fig)\n",
    "    print(\"Saved\", out)\n",
    "\n",
    "# A) Histograms\n",
    "for col in [\"income\",\"spend\",\"age\"]:\n",
    "    fig, ax = plt.subplots(figsize=(6,4))\n",
    "    ax.hist(df[col].dropna(), bins=30, alpha=0.8)\n",
    "    ax.set_title(f\"{col} distribution\")\n",
    "    ax.set_xlabel(col); ax.set_ylabel(\"count\")\n",
    "    save_current(fig, f\"hist_{col}.png\")\n",
    "\n",
    "# B) Boxplot\n",
    "fig, ax = plt.subplots(figsize=(5,4))\n",
    "ax.boxplot(df[\"transactions\"].dropna(), vert=True, labels=[\"transactions\"])\n",
    "ax.set_title(\"Transactions outliers\")\n",
    "save_current(fig, \"box_transactions.png\")\n",
    "\n",
    "# C) Scatter relationships\n",
    "pairs = [(\"income\",\"spend\"), (\"age\",\"spend\")]\n",
    "for x,y in pairs:\n",
    "    fig, ax = plt.subplots(figsize=(6,4))\n",
    "    ax.scatter(df[x], df[y], s=14, alpha=0.7)\n",
    "    ax.set_title(f\"{y} vs {x}\")\n",
    "    ax.set_xlabel(x); ax.set_ylabel(y)\n",
    "    save_current(fig, f\"scatter_{y}_vs_{x}.png\")\n",
    "\n",
    "# D) Correlation heatmap\n",
    "corr = df[num_cols].corr(numeric_only=True)\n",
    "fig, ax = plt.subplots(figsize=(6,5))\n",
    "cax = ax.imshow(corr.values, cmap=\"coolwarm\", vmin=-1, vmax=1)\n",
    "ax.set_xticks(range(len(corr.columns))); ax.set_xticklabels(corr.columns, rotation=45, ha=\"right\")\n",
    "ax.set_yticks(range(len(corr.columns))); ax.set_yticklabels(corr.index)\n",
    "fig.colorbar(cax)\n",
    "ax.set_title(\"Correlation matrix\")\n",
    "save_current(fig, \"corr_matrix.png\")\n",
    "\n",
    "# also save correlation table\n",
    "corr.to_csv(REPORTS/\"stage08_correlation.csv\")"
   ]
  },
  {
   "cell_type": "markdown",
   "id": "32cb5cf9",
   "metadata": {},
   "source": [
    "## Findings\n",
    "\n",
    "- **Distributions:**  \n",
    "  - *Income* is right-skewed (typical of lognormal).  \n",
    "  - *Spend* is slightly right-tailed with a few high values.  \n",
    "  - *Transactions* mostly cluster around 3–4 but show some extreme outliers.  \n",
    "  - *Age* is approximately bell-shaped, clipped between 22–70.  \n",
    "\n",
    "- **Missingness:**  \n",
    "  - A few missing values in *income* and *spend*.  \n",
    "  - No structural missingness by date or region.  \n",
    "\n",
    "- **Relationships:**  \n",
    "  - *Income vs Spend* shows a positive relationship with scatter widened by noise.  \n",
    "  - *Age vs Spend* shows no strong pattern, suggesting age may not drive spending much.  \n",
    "  - *Region* shifts the income–spend relationship slightly, showing some group differences.  \n",
    "\n",
    "- **Correlation:**  \n",
    "  - Spend correlates positively with both *income* and *transactions*.  \n",
    "  - Transactions and income are only weakly related, meaning they provide complementary information."
   ]
  },
  {
   "cell_type": "markdown",
   "id": "d8afd6a1",
   "metadata": {},
   "source": [
    "## So What\n",
    "\n",
    "- The right-skew in income and spend suggests considering **log transforms** before fitting linear models.  \n",
    "- Outliers in transactions could distort models. Options: **cap, winsorize, or robust models**.  \n",
    "- Region appears to segment behavior; including it as a categorical feature could improve model accuracy.  \n",
    "- Missing values in income/spend must be addressed before downstream analysis (imputation or removal)."
   ]
  },
  {
   "cell_type": "markdown",
   "id": "089428f7",
   "metadata": {},
   "source": [
    "## Now What\n",
    "\n",
    "- **Preprocessing:**  \n",
    "  - Impute missing *income* and *spend* using median or region-based averages.  \n",
    "  - Consider log-transforming *income* and *spend*.  \n",
    "  - Decide whether to treat extreme *transactions* values as errors or real high-frequency shoppers.  \n",
    "\n",
    "- **Feature engineering:**  \n",
    "  - Create interaction terms (e.g., region × transactions) to capture group-specific effects.  \n",
    "  - Encode region as categorical dummies for regression models.  \n",
    "\n",
    "- **Next steps:**  \n",
    "  - Explore time-based seasonality using the *date* column (weekly or monthly spend patterns).  \n",
    "  - Build initial baseline regression models (spend ~ income + transactions + age + region)."
   ]
  }
 ],
 "metadata": {
  "kernelspec": {
   "display_name": "bootcamp_env",
   "language": "python",
   "name": "python3"
  },
  "language_info": {
   "codemirror_mode": {
    "name": "ipython",
    "version": 3
   },
   "file_extension": ".py",
   "mimetype": "text/x-python",
   "name": "python",
   "nbconvert_exporter": "python",
   "pygments_lexer": "ipython3",
   "version": "3.10.18"
  }
 },
 "nbformat": 4,
 "nbformat_minor": 5
}
