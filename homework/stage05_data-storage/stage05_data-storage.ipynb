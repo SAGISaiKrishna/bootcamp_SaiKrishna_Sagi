{
 "cells": [
  {
   "cell_type": "code",
   "execution_count": 10,
   "id": "108ba7e3",
   "metadata": {},
   "outputs": [
    {
     "data": {
      "text/plain": [
       "(PosixPath('data/raw'), PosixPath('data/processed'))"
      ]
     },
     "execution_count": 10,
     "metadata": {},
     "output_type": "execute_result"
    }
   ],
   "source": [
    "from dotenv import load_dotenv\n",
    "import os\n",
    "from pathlib import Path\n",
    "from datetime import datetime\n",
    "import pandas as pd\n",
    "\n",
    "load_dotenv(override=True)\n",
    "RAW  = Path(os.getenv(\"DATA_DIR_RAW\", \"data/raw\"))\n",
    "PROC = Path(os.getenv(\"DATA_DIR_PROCESSED\", \"data/processed\"))\n",
    "RAW.mkdir(parents=True, exist_ok=True)\n",
    "PROC.mkdir(parents=True, exist_ok=True)\n",
    "\n",
    "RAW, PROC  # quick check"
   ]
  },
  {
   "cell_type": "code",
   "execution_count": 11,
   "id": "15109da7",
   "metadata": {},
   "outputs": [
    {
     "data": {
      "text/html": [
       "<div>\n",
       "<style scoped>\n",
       "    .dataframe tbody tr th:only-of-type {\n",
       "        vertical-align: middle;\n",
       "    }\n",
       "\n",
       "    .dataframe tbody tr th {\n",
       "        vertical-align: top;\n",
       "    }\n",
       "\n",
       "    .dataframe thead th {\n",
       "        text-align: right;\n",
       "    }\n",
       "</style>\n",
       "<table border=\"1\" class=\"dataframe\">\n",
       "  <thead>\n",
       "    <tr style=\"text-align: right;\">\n",
       "      <th></th>\n",
       "      <th>Date</th>\n",
       "      <th>Value</th>\n",
       "      <th>Category</th>\n",
       "    </tr>\n",
       "  </thead>\n",
       "  <tbody>\n",
       "    <tr>\n",
       "      <th>0</th>\n",
       "      <td>2025-01-01</td>\n",
       "      <td>1.0</td>\n",
       "      <td>A</td>\n",
       "    </tr>\n",
       "    <tr>\n",
       "      <th>1</th>\n",
       "      <td>2025-01-02</td>\n",
       "      <td>2.5</td>\n",
       "      <td>B</td>\n",
       "    </tr>\n",
       "    <tr>\n",
       "      <th>2</th>\n",
       "      <td>2025-01-03</td>\n",
       "      <td>3.3</td>\n",
       "      <td>A</td>\n",
       "    </tr>\n",
       "  </tbody>\n",
       "</table>\n",
       "</div>"
      ],
      "text/plain": [
       "        Date  Value Category\n",
       "0 2025-01-01    1.0        A\n",
       "1 2025-01-02    2.5        B\n",
       "2 2025-01-03    3.3        A"
      ]
     },
     "execution_count": 11,
     "metadata": {},
     "output_type": "execute_result"
    }
   ],
   "source": [
    "df = pd.DataFrame({\n",
    "    \"Date\": pd.to_datetime([\"2025-01-01\",\"2025-01-02\",\"2025-01-03\"]),\n",
    "    \"Value\": [1.0, 2.5, 3.3],\n",
    "    \"Category\": [\"A\",\"B\",\"A\"],\n",
    "})\n",
    "df"
   ]
  },
  {
   "cell_type": "code",
   "execution_count": 12,
   "id": "53579b52",
   "metadata": {},
   "outputs": [
    {
     "data": {
      "text/plain": [
       "(PosixPath('data/raw/sample_20250827-1354.csv'),\n",
       " PosixPath('data/processed/sample_20250827-1354.parquet'),\n",
       " True)"
      ]
     },
     "execution_count": 12,
     "metadata": {},
     "output_type": "execute_result"
    }
   ],
   "source": [
    "from src.storage import write_df\n",
    "\n",
    "ts = datetime.now().strftime(\"%Y%m%d-%H%M\")\n",
    "csv_path  = RAW  / f\"sample_{ts}.csv\"\n",
    "parq_path = PROC / f\"sample_{ts}.parquet\"\n",
    "\n",
    "write_df(df, csv_path)\n",
    "try:\n",
    "    write_df(df, parq_path)\n",
    "    wrote_parquet = True\n",
    "except RuntimeError as e:\n",
    "    print(e)  # if pyarrow missing, you’ll see the message here\n",
    "    wrote_parquet = False\n",
    "\n",
    "csv_path, parq_path, wrote_parquet"
   ]
  },
  {
   "cell_type": "code",
   "execution_count": 13,
   "id": "3ab514b8",
   "metadata": {},
   "outputs": [
    {
     "name": "stdout",
     "output_type": "stream",
     "text": [
      "Validation passed\n"
     ]
    }
   ],
   "source": [
    "from src.storage import read_df\n",
    "\n",
    "def validate_reload(orig: pd.DataFrame, csv_p: Path, parq_p: Path | None = None):\n",
    "    # CSV round-trip\n",
    "    df_csv = read_df(csv_p, parse_dates=[\"Date\"])\n",
    "    assert df_csv.shape == orig.shape, \"CSV shape mismatch\"\n",
    "    assert pd.api.types.is_datetime64_any_dtype(df_csv[\"Date\"]), \"CSV Date not datetime\"\n",
    "    assert pd.api.types.is_float_dtype(df_csv[\"Value\"]), \"CSV Value not float\"\n",
    "    assert pd.api.types.is_object_dtype(df_csv[\"Category\"]), \"CSV Category not object/str\"\n",
    "\n",
    "    # Parquet round-trip (if written)\n",
    "    if parq_p and parq_p.exists():\n",
    "        df_parq = read_df(parq_p)\n",
    "        assert df_parq.shape == orig.shape, \"Parquet shape mismatch\"\n",
    "        assert pd.api.types.is_datetime64_any_dtype(df_parq[\"Date\"]), \"Parquet Date not datetime\"\n",
    "        assert pd.api.types.is_float_dtype(df_parq[\"Value\"]), \"Parquet Value not float\"\n",
    "        assert pd.api.types.is_object_dtype(df_parq[\"Category\"]), \"Parquet Category not object/str\"\n",
    "\n",
    "    print(\"Validation passed\")\n",
    "\n",
    "validate_reload(df, csv_path, parq_path if wrote_parquet else None)"
   ]
  }
 ],
 "metadata": {
  "kernelspec": {
   "display_name": "bootcamp_env",
   "language": "python",
   "name": "python3"
  },
  "language_info": {
   "codemirror_mode": {
    "name": "ipython",
    "version": 3
   },
   "file_extension": ".py",
   "mimetype": "text/x-python",
   "name": "python",
   "nbconvert_exporter": "python",
   "pygments_lexer": "ipython3",
   "version": "3.10.18"
  }
 },
 "nbformat": 4,
 "nbformat_minor": 5
}
