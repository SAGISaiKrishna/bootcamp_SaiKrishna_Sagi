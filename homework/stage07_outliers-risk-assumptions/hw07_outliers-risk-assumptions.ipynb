{
 "cells": [
  {
   "cell_type": "code",
   "execution_count": 23,
   "id": "bc69b089",
   "metadata": {},
   "outputs": [],
   "source": [
    "import numpy as np\n",
    "import pandas as pd\n",
    "import matplotlib.pyplot as plt\n",
    "from pathlib import Path\n",
    "import sys\n",
    "\n",
    "# import our reusable functions\n",
    "sys.path.append(\"src\")\n",
    "from src.outliers import detect_outliers_iqr, detect_outliers_zscore, winsorize_series\n",
    "\n",
    "# paths\n",
    "DATA = Path(\"data/raw/outliers_homework.csv\")\n",
    "FIGS = Path(\"reports/figures\")\n",
    "FIGS.mkdir(parents=True, exist_ok=True)\n",
    "\n",
    "# reproducibility for any random ops you add later\n",
    "np.random.seed(42)"
   ]
  },
  {
   "cell_type": "code",
   "execution_count": 24,
   "id": "52149693",
   "metadata": {},
   "outputs": [
    {
     "data": {
      "text/html": [
       "<div>\n",
       "<style scoped>\n",
       "    .dataframe tbody tr th:only-of-type {\n",
       "        vertical-align: middle;\n",
       "    }\n",
       "\n",
       "    .dataframe tbody tr th {\n",
       "        vertical-align: top;\n",
       "    }\n",
       "\n",
       "    .dataframe thead th {\n",
       "        text-align: right;\n",
       "    }\n",
       "</style>\n",
       "<table border=\"1\" class=\"dataframe\">\n",
       "  <thead>\n",
       "    <tr style=\"text-align: right;\">\n",
       "      <th></th>\n",
       "      <th>date</th>\n",
       "      <th>category</th>\n",
       "      <th>x</th>\n",
       "      <th>y</th>\n",
       "    </tr>\n",
       "  </thead>\n",
       "  <tbody>\n",
       "    <tr>\n",
       "      <th>0</th>\n",
       "      <td>2021-01-01</td>\n",
       "      <td>B</td>\n",
       "      <td>37.454012</td>\n",
       "      <td>83.325584</td>\n",
       "    </tr>\n",
       "    <tr>\n",
       "      <th>1</th>\n",
       "      <td>2021-01-02</td>\n",
       "      <td>B</td>\n",
       "      <td>95.071431</td>\n",
       "      <td>213.904570</td>\n",
       "    </tr>\n",
       "    <tr>\n",
       "      <th>2</th>\n",
       "      <td>2021-01-03</td>\n",
       "      <td>B</td>\n",
       "      <td>73.199394</td>\n",
       "      <td>160.903027</td>\n",
       "    </tr>\n",
       "    <tr>\n",
       "      <th>3</th>\n",
       "      <td>2021-01-04</td>\n",
       "      <td>B</td>\n",
       "      <td>59.865848</td>\n",
       "      <td>118.962660</td>\n",
       "    </tr>\n",
       "    <tr>\n",
       "      <th>4</th>\n",
       "      <td>2021-01-05</td>\n",
       "      <td>C</td>\n",
       "      <td>15.601864</td>\n",
       "      <td>27.219581</td>\n",
       "    </tr>\n",
       "  </tbody>\n",
       "</table>\n",
       "</div>"
      ],
      "text/plain": [
       "        date category          x           y\n",
       "0 2021-01-01        B  37.454012   83.325584\n",
       "1 2021-01-02        B  95.071431  213.904570\n",
       "2 2021-01-03        B  73.199394  160.903027\n",
       "3 2021-01-04        B  59.865848  118.962660\n",
       "4 2021-01-05        C  15.601864   27.219581"
      ]
     },
     "execution_count": 24,
     "metadata": {},
     "output_type": "execute_result"
    }
   ],
   "source": [
    "if DATA.exists():\n",
    "    df = pd.read_csv(DATA, parse_dates=[\"date\"])\n",
    "else:\n",
    "    # fallback synthetic data if file is missing\n",
    "    n = 500\n",
    "    x = np.random.uniform(0, 100, size=n)\n",
    "    y = 5.0 + 2.0 * x + np.random.normal(0, 10, size=n)\n",
    "    idx = np.random.choice(n, size=12, replace=False)\n",
    "    y[idx[:8]] += np.random.choice([150, -150], size=8)\n",
    "    x[idx[8:]] = x[idx[8:]] * np.random.choice([4, 8], size=4)\n",
    "    df = pd.DataFrame({\n",
    "        \"date\": pd.date_range(\"2021-01-01\", periods=n, freq=\"D\"),\n",
    "        \"category\": np.random.choice([\"A\", \"B\", \"C\"], size=n, p=[0.4, 0.4, 0.2]),\n",
    "        \"x\": x,\n",
    "        \"y\": y\n",
    "    })\n",
    "    DATA.parent.mkdir(parents=True, exist_ok=True)\n",
    "    df.to_csv(DATA, index=False)\n",
    "\n",
    "df.head()"
   ]
  },
  {
   "cell_type": "code",
   "execution_count": 25,
   "id": "6c4a9533",
   "metadata": {},
   "outputs": [
    {
     "data": {
      "text/plain": [
       "pct_outlier_iqr_y    0.004\n",
       "pct_outlier_z3_y     0.004\n",
       "dtype: float64"
      ]
     },
     "execution_count": 25,
     "metadata": {},
     "output_type": "execute_result"
    }
   ],
   "source": [
    "num_col_x = \"x\"\n",
    "num_col_y = \"y\"\n",
    "\n",
    "df = df[[num_col_x, num_col_y]].dropna().copy()\n",
    "\n",
    "# outlier flags for the target variable y\n",
    "df[\"outlier_iqr_y\"] = detect_outliers_iqr(df[num_col_y], k=1.5)\n",
    "df[\"outlier_z3_y\"]  = detect_outliers_zscore(df[num_col_y], threshold=3.0)\n",
    "\n",
    "df[[\"outlier_iqr_y\", \"outlier_z3_y\"]].mean().rename(lambda c: f\"pct_{c}\")  # quick check"
   ]
  },
  {
   "cell_type": "code",
   "execution_count": 26,
   "id": "f9fe3f4f",
   "metadata": {},
   "outputs": [
    {
     "data": {
      "text/plain": [
       "(500, 498, 500)"
      ]
     },
     "execution_count": 26,
     "metadata": {},
     "output_type": "execute_result"
    }
   ],
   "source": [
    "# baseline\n",
    "df_all = df[[num_col_x, num_col_y]].copy()\n",
    "\n",
    "# IQR filtered\n",
    "df_filtered = df.loc[~df[\"outlier_iqr_y\"], [num_col_x, num_col_y]].copy()\n",
    "\n",
    "# winsorized\n",
    "df_wins = df[[num_col_x, num_col_y]].copy()\n",
    "df_wins[num_col_y] = winsorize_series(df[num_col_y], lower=0.05, upper=0.95)\n",
    "\n",
    "len(df_all), len(df_filtered), len(df_wins)\n"
   ]
  },
  {
   "cell_type": "code",
   "execution_count": 27,
   "id": "e41a0a4e",
   "metadata": {},
   "outputs": [
    {
     "data": {
      "text/html": [
       "<div>\n",
       "<style scoped>\n",
       "    .dataframe tbody tr th:only-of-type {\n",
       "        vertical-align: middle;\n",
       "    }\n",
       "\n",
       "    .dataframe tbody tr th {\n",
       "        vertical-align: top;\n",
       "    }\n",
       "\n",
       "    .dataframe thead th {\n",
       "        text-align: right;\n",
       "    }\n",
       "</style>\n",
       "<table border=\"1\" class=\"dataframe\">\n",
       "  <thead>\n",
       "    <tr style=\"text-align: right;\">\n",
       "      <th></th>\n",
       "      <th>all</th>\n",
       "      <th>filtered_iqr</th>\n",
       "      <th>winsorized</th>\n",
       "    </tr>\n",
       "  </thead>\n",
       "  <tbody>\n",
       "    <tr>\n",
       "      <th>mean</th>\n",
       "      <td>104.788541</td>\n",
       "      <td>105.740433</td>\n",
       "      <td>105.351066</td>\n",
       "    </tr>\n",
       "    <tr>\n",
       "      <th>median</th>\n",
       "      <td>107.649299</td>\n",
       "      <td>107.886537</td>\n",
       "      <td>107.649299</td>\n",
       "    </tr>\n",
       "    <tr>\n",
       "      <th>std</th>\n",
       "      <td>63.739605</td>\n",
       "      <td>62.055095</td>\n",
       "      <td>60.412142</td>\n",
       "    </tr>\n",
       "    <tr>\n",
       "      <th>min</th>\n",
       "      <td>-150.005708</td>\n",
       "      <td>-84.420783</td>\n",
       "      <td>6.762344</td>\n",
       "    </tr>\n",
       "    <tr>\n",
       "      <th>max</th>\n",
       "      <td>249.834670</td>\n",
       "      <td>249.834670</td>\n",
       "      <td>198.090201</td>\n",
       "    </tr>\n",
       "    <tr>\n",
       "      <th>count</th>\n",
       "      <td>500.000000</td>\n",
       "      <td>498.000000</td>\n",
       "      <td>500.000000</td>\n",
       "    </tr>\n",
       "  </tbody>\n",
       "</table>\n",
       "</div>"
      ],
      "text/plain": [
       "               all  filtered_iqr  winsorized\n",
       "mean    104.788541    105.740433  105.351066\n",
       "median  107.649299    107.886537  107.649299\n",
       "std      63.739605     62.055095   60.412142\n",
       "min    -150.005708    -84.420783    6.762344\n",
       "max     249.834670    249.834670  198.090201\n",
       "count   500.000000    498.000000  500.000000"
      ]
     },
     "execution_count": 27,
     "metadata": {},
     "output_type": "execute_result"
    }
   ],
   "source": [
    "def summarize(series: pd.Series) -> pd.Series:\n",
    "    s = pd.to_numeric(series, errors=\"coerce\")\n",
    "    return pd.Series({\n",
    "        \"mean\": s.mean(),\n",
    "        \"median\": s.median(),\n",
    "        \"std\": s.std(),\n",
    "        \"min\": s.min(),\n",
    "        \"max\": s.max(),\n",
    "        \"count\": s.count()\n",
    "    })\n",
    "\n",
    "summary_table = pd.DataFrame({\n",
    "    \"all\": summarize(df_all[num_col_y]),\n",
    "    \"filtered_iqr\": summarize(df_filtered[num_col_y]),\n",
    "    \"winsorized\": summarize(df_wins[num_col_y])\n",
    "})\n",
    "summary_table"
   ]
  },
  {
   "cell_type": "code",
   "execution_count": 28,
   "id": "0a4a1f25",
   "metadata": {},
   "outputs": [
    {
     "data": {
      "text/html": [
       "<div>\n",
       "<style scoped>\n",
       "    .dataframe tbody tr th:only-of-type {\n",
       "        vertical-align: middle;\n",
       "    }\n",
       "\n",
       "    .dataframe tbody tr th {\n",
       "        vertical-align: top;\n",
       "    }\n",
       "\n",
       "    .dataframe thead th {\n",
       "        text-align: right;\n",
       "    }\n",
       "</style>\n",
       "<table border=\"1\" class=\"dataframe\">\n",
       "  <thead>\n",
       "    <tr style=\"text-align: right;\">\n",
       "      <th></th>\n",
       "      <th>coef_beta1</th>\n",
       "      <th>intercept_beta0</th>\n",
       "      <th>R2</th>\n",
       "      <th>MAE</th>\n",
       "    </tr>\n",
       "  </thead>\n",
       "  <tbody>\n",
       "    <tr>\n",
       "      <th>all</th>\n",
       "      <td>0.801062</td>\n",
       "      <td>62.592149</td>\n",
       "      <td>0.385706</td>\n",
       "      <td>35.857994</td>\n",
       "    </tr>\n",
       "    <tr>\n",
       "      <th>filtered_iqr</th>\n",
       "      <td>0.786614</td>\n",
       "      <td>64.170286</td>\n",
       "      <td>0.392749</td>\n",
       "      <td>35.453599</td>\n",
       "    </tr>\n",
       "    <tr>\n",
       "      <th>winsorized</th>\n",
       "      <td>0.776280</td>\n",
       "      <td>64.460083</td>\n",
       "      <td>0.403210</td>\n",
       "      <td>34.796706</td>\n",
       "    </tr>\n",
       "  </tbody>\n",
       "</table>\n",
       "</div>"
      ],
      "text/plain": [
       "              coef_beta1  intercept_beta0        R2        MAE\n",
       "all             0.801062        62.592149  0.385706  35.857994\n",
       "filtered_iqr    0.786614        64.170286  0.392749  35.453599\n",
       "winsorized      0.776280        64.460083  0.403210  34.796706"
      ]
     },
     "execution_count": 28,
     "metadata": {},
     "output_type": "execute_result"
    }
   ],
   "source": [
    "def fit_poly_metrics(d: pd.DataFrame, xcol: str, ycol: str):\n",
    "    d2 = d[[xcol, ycol]].dropna()\n",
    "    x = d2[xcol].values\n",
    "    y = d2[ycol].values\n",
    "    b, a = np.polyfit(x, y, 1)  # slope b, intercept a\n",
    "    y_hat = a + b * x\n",
    "    ss_res = np.sum((y - y_hat) ** 2)\n",
    "    ss_tot = np.sum((y - y.mean()) ** 2)\n",
    "    r2 = 1 - ss_res / ss_tot if ss_tot != 0 else np.nan\n",
    "    mae = float(np.mean(np.abs(y - y_hat)))\n",
    "    return {\"coef_beta1\": float(b), \"intercept_beta0\": float(a), \"R2\": float(r2), \"MAE\": mae}\n",
    "\n",
    "metrics = {\n",
    "    \"all\": fit_poly_metrics(df_all, num_col_x, num_col_y),\n",
    "    \"filtered_iqr\": fit_poly_metrics(df_filtered, num_col_x, num_col_y),\n",
    "    \"winsorized\": fit_poly_metrics(df_wins, num_col_x, num_col_y)\n",
    "}\n",
    "metrics_df = pd.DataFrame(metrics).T\n",
    "metrics_df"
   ]
  },
  {
   "cell_type": "code",
   "execution_count": 29,
   "id": "8f1f6bb4",
   "metadata": {},
   "outputs": [
    {
     "name": "stderr",
     "output_type": "stream",
     "text": [
      "/var/folders/8g/r2s0bn6n5wx0xhj9rhghd0w80000gn/T/ipykernel_19433/55422877.py:3: MatplotlibDeprecationWarning: The 'labels' parameter of boxplot() has been renamed 'tick_labels' since Matplotlib 3.9; support for the old name will be dropped in 3.11.\n",
      "  plt.boxplot(\n"
     ]
    },
    {
     "data": {
      "image/png": "[encoded data removed]",
      "text/plain": [
       "<Figure size 600x400 with 1 Axes>"
      ]
     },
     "metadata": {},
     "output_type": "display_data"
    },
    {
     "data": {
      "image/png": "[encoded data removed]",
      "text/plain": [
       "<Figure size 600x400 with 1 Axes>"
      ]
     },
     "metadata": {},
     "output_type": "display_data"
    }
   ],
   "source": [
    "# A) boxplots of y across variants\n",
    "plt.figure(figsize=(6,4))\n",
    "plt.boxplot(\n",
    "    [df_all[num_col_y], df_filtered[num_col_y], df_wins[num_col_y]],\n",
    "    labels=[\"All\", \"IQR filtered\", \"Winsorized\"],\n",
    "    vert=True\n",
    ")\n",
    "plt.title(\"Boxplots of y across treatments\")\n",
    "plt.ylabel(num_col_y)\n",
    "plt.tight_layout()\n",
    "plt.savefig(FIGS / \"01_boxplots_y_variants.png\", dpi=150)\n",
    "plt.show()\n",
    "\n",
    "# B) residuals before vs after filtering\n",
    "def residuals(a, b, x, y):\n",
    "    return y - (a + b * x)\n",
    "\n",
    "b_all, a_all = np.polyfit(df_all[num_col_x], df_all[num_col_y], 1)\n",
    "b_flt, a_flt = np.polyfit(df_filtered[num_col_x], df_filtered[num_col_y], 1)\n",
    "\n",
    "res_all = residuals(a_all, b_all, df_all[num_col_x].values, df_all[num_col_y].values)\n",
    "res_flt = residuals(a_flt, b_flt, df_filtered[num_col_x].values, df_filtered[num_col_y].values)\n",
    "\n",
    "plt.figure(figsize=(6,4))\n",
    "plt.scatter(df_all[num_col_x], res_all, s=10, alpha=0.6, label=\"All\")\n",
    "plt.scatter(df_filtered[num_col_x], res_flt, s=10, alpha=0.6, label=\"IQR filtered\")\n",
    "plt.axhline(0, linewidth=1)\n",
    "plt.title(\"Residuals before vs after IQR removal\")\n",
    "plt.xlabel(num_col_x)\n",
    "plt.ylabel(\"residual\")\n",
    "plt.legend()\n",
    "plt.tight_layout()\n",
    "plt.savefig(FIGS / \"02_residuals_compare.png\", dpi=150)\n",
    "plt.show()"
   ]
  },
  {
   "cell_type": "code",
   "execution_count": 30,
   "id": "41888289",
   "metadata": {},
   "outputs": [
    {
     "name": "stdout",
     "output_type": "stream",
     "text": [
      "Saved summary and metrics to ../reports\n"
     ]
    }
   ],
   "source": [
    "OUT = Path(\"../reports\")\n",
    "OUT.mkdir(parents=True, exist_ok=True)\n",
    "summary_table.to_csv(OUT / \"stage07_summary_stats.csv\", index=True)\n",
    "metrics_df.to_csv(OUT / \"stage07_model_metrics.csv\", index=True)\n",
    "print(\"Saved summary and metrics to ../reports\")"
   ]
  },
  {
   "cell_type": "markdown",
   "id": "aaae3b84",
   "metadata": {},
   "source": [
    "## Findings\n",
    "\n",
    "- **Outlier detection:**  \n",
    "  - Using the IQR rule (k = 1.5) flagged extreme high and low values in *y*.  \n",
    "  - Z-score with threshold 3.0 produced similar results but was more sensitive to distribution shape.  \n",
    "  - Winsorizing at the 5th and 95th percentiles capped extreme values without dropping rows.  \n",
    "\n",
    "- **Impact on summary stats:**  \n",
    "  - With all data, mean and std of *y* were heavily influenced by outliers.  \n",
    "  - Removing outliers reduced spread and pulled the mean closer to the median.  \n",
    "  - Winsorizing softened extremes while keeping the sample size constant.  \n",
    "\n",
    "- **Model sensitivity:**  \n",
    "  - Linear regression fit on all data showed slope and intercept shifted by extreme points.  \n",
    "  - After IQR filtering, R² increased and MAE decreased → the model fit the bulk of the data better.  \n",
    "  - Winsorizing moved metrics partway between the all-data and filtered versions."
   ]
  },
  {
   "cell_type": "markdown",
   "id": "477d7d60",
   "metadata": {},
   "source": [
    "## So What\n",
    "\n",
    "- Outliers have a **material impact** on both descriptive statistics and simple regression fits.  \n",
    "- Extreme points can pull the slope and inflate residual variance, masking the main pattern.  \n",
    "- Removing outliers improves fit but risks discarding rare but real events.  \n",
    "- Winsorizing is a compromise: it reduces leverage of extremes while preserving all rows."
   ]
  },
  {
   "cell_type": "markdown",
   "id": "5f9b9ba2",
   "metadata": {},
   "source": [
    "## Now What\n",
    "\n",
    "- **Preprocessing options:**  \n",
    "  - For modeling, compare performance on filtered vs winsorized data to check robustness.  \n",
    "  - Consider robust regression methods (e.g., Huber loss) if extremes are common.  \n",
    "\n",
    "- **Documentation:**  \n",
    "  - Always record the thresholds used (IQR k = 1.5, Z = 3.0, Winsor 5%/95%).  \n",
    "  - Note that results are conditional on these assumptions.  \n",
    "\n",
    "- **Next steps:**  \n",
    "  - If data is financial, treat extreme events carefully (may be signals, not noise).  \n",
    "  - Use sensitivity tables/plots to show how conclusions change under each treatment."
   ]
  }
 ],
 "metadata": {
  "kernelspec": {
   "display_name": "bootcamp_env",
   "language": "python",
   "name": "python3"
  },
  "language_info": {
   "codemirror_mode": {
    "name": "ipython",
    "version": 3
   },
   "file_extension": ".py",
   "mimetype": "text/x-python",
   "name": "python",
   "nbconvert_exporter": "python",
   "pygments_lexer": "ipython3",
   "version": "3.10.18"
  }
 },
 "nbformat": 4,
 "nbformat_minor": 5
}
