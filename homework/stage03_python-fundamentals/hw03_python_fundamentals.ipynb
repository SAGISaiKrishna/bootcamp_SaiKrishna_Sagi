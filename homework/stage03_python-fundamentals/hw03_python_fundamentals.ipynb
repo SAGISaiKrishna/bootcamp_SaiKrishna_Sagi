{
 "cells": [
  {
   "cell_type": "code",
   "execution_count": 36,
   "id": "93780a78",
   "metadata": {},
   "outputs": [],
   "source": [
    "import numpy as np\n",
    "import pandas as pd\n",
    "import matplotlib.pyplot as plt\n",
    "from pathlib import Path\n",
    "import sys, time\n",
    "\n",
    "# Why: allow the notebook to import our function from src/utils.py\n",
    "sys.path.append(\"/Users/yashu/Documents/Bootcamp/bootcamp_SaiKrishna_Sagi/homework/stage03_python-fundamentals/src\")\n",
    "from utils import get_summary_stats\n",
    "\n",
    "CSV_PATH = Path(\"/Users/yashu/Documents/Bootcamp/bootcamp_SaiKrishna_Sagi/homework/stage03_python-fundamentals/data/raw/bootcamp_hw3_sample.csv\")\n",
    "\n",
    "# Why: point to the CSV and output directory, so all file saves go to homework/data/processed\n",
    "PROCESSED_CSV_PATH = Path(\"/Users/yashu/Documents/Bootcamp/bootcamp_SaiKrishna_Sagi/homework/stage03_python-fundamentals/data/processed/bootcamp_hw3_sample.csv\")\n",
    "PROCESSED_DIR = PROCESSED_CSV_PATH.parent"
   ]
  },
  {
   "cell_type": "code",
   "execution_count": 37,
   "id": "b6e4fdb4",
   "metadata": {},
   "outputs": [
    {
     "name": "stdout",
     "output_type": "stream",
     "text": [
      "Vectorized seconds: 0.000410\n",
      "Loop seconds:       0.016857\n"
     ]
    }
   ],
   "source": [
    "# create an array\n",
    "arr = np.arange(200_000)\n",
    "\n",
    "# vectorized\n",
    "t0 = time.time()\n",
    "vec_out = arr * 2\n",
    "t_vec = time.time() - t0\n",
    "\n",
    "# loop\n",
    "t0 = time.time()\n",
    "loop_out = [x * 2 for x in arr]\n",
    "t_loop = time.time() - t0\n",
    "\n",
    "assert np.all(vec_out == np.array(loop_out))\n",
    "print(f\"Vectorized seconds: {t_vec:.6f}\")\n",
    "print(f\"Loop seconds:       {t_loop:.6f}\")\n"
   ]
  },
  {
   "cell_type": "code",
   "execution_count": 38,
   "id": "f8626183",
   "metadata": {},
   "outputs": [
    {
     "name": "stdout",
     "output_type": "stream",
     "text": [
      "<class 'pandas.core.frame.DataFrame'>\n",
      "RangeIndex: 1000 entries, 0 to 999\n",
      "Data columns (total 11 columns):\n",
      " #   Column        Non-Null Count  Dtype  \n",
      "---  ------        --------------  -----  \n",
      " 0   order_id      1000 non-null   int64  \n",
      " 1   timestamp     1000 non-null   object \n",
      " 2   qty           967 non-null    float64\n",
      " 3   price         968 non-null    float64\n",
      " 4   revenue       1000 non-null   float64\n",
      " 5   category      1000 non-null   object \n",
      " 6   city          1000 non-null   object \n",
      " 7   sku           1000 non-null   object \n",
      " 8   is_member     1000 non-null   bool   \n",
      " 9   notes         721 non-null    object \n",
      " 10  daily_visits  1000 non-null   int64  \n",
      "dtypes: bool(1), float64(3), int64(2), object(5)\n",
      "memory usage: 79.2+ KB\n",
      "None\n",
      "   order_id   timestamp  qty  price  revenue category     city       sku  \\\n",
      "0         1  2024-01-01  1.0    NaN    74.99   beauty       LA   F-Q909    \n",
      "1         2  2024-01-02  4.0  89.21   356.84   beauty    Miami    a-v472   \n",
      "2         3  2024-01-03  4.0  92.50   370.00     home      NYC    Q-Q972   \n",
      "3         4  2024-01-04  3.0  52.85   158.55     home  Chicago   r-p612    \n",
      "4         5  2024-01-05  3.0  54.43   163.29   beauty    Miami   u-m446    \n",
      "\n",
      "   is_member                notes  daily_visits  \n",
      "0      False  return window open            260  \n",
      "1      False                                224  \n",
      "2      False                  NaN           178  \n",
      "3      False  return window open            158  \n",
      "4      False  return window open            217  \n"
     ]
    }
   ],
   "source": [
    "# Why: Homework requires loading CSV and using .info() and .head()\n",
    "\n",
    "df = pd.read_csv(CSV_PATH)\n",
    "\n",
    "print(df.info())   # column types + null counts\n",
    "print(df.head())   # first 5 rows for a quick glance"
   ]
  },
  {
   "cell_type": "code",
   "execution_count": 39,
   "id": "83d9420c",
   "metadata": {},
   "outputs": [
    {
     "name": "stdout",
     "output_type": "stream",
     "text": [
      "           order_id   timestamp         qty       price      revenue category  \\\n",
      "count   1000.000000        1000  967.000000  968.000000  1000.000000     1000   \n",
      "unique          NaN        1000         NaN         NaN          NaN        5   \n",
      "top             NaN  2024-01-01         NaN         NaN          NaN   beauty   \n",
      "freq            NaN           1         NaN         NaN          NaN      215   \n",
      "mean     500.500000         NaN    2.996898   52.694628   157.873680      NaN   \n",
      "std      288.819436         NaN    1.416039   27.838265   118.082452      NaN   \n",
      "min        1.000000         NaN    1.000000    5.050000     5.100000      NaN   \n",
      "25%      250.750000         NaN    2.000000   28.245000    62.787500      NaN   \n",
      "50%      500.500000         NaN    3.000000   51.880000   127.185000      NaN   \n",
      "75%      750.250000         NaN    4.000000   77.457500   233.722500      NaN   \n",
      "max     1000.000000         NaN    5.000000   99.950000   499.350000      NaN   \n",
      "\n",
      "        city      sku is_member  notes  daily_visits  \n",
      "count   1000     1000      1000    721   1000.000000  \n",
      "unique     5     1000         2      5           NaN  \n",
      "top       LA  F-Q909      False   VIP            NaN  \n",
      "freq     215        1       591    156           NaN  \n",
      "mean     NaN      NaN       NaN    NaN    202.967000  \n",
      "std      NaN      NaN       NaN    NaN     50.789068  \n",
      "min      NaN      NaN       NaN    NaN    106.000000  \n",
      "25%      NaN      NaN       NaN    NaN    180.750000  \n",
      "50%      NaN      NaN       NaN    NaN    200.000000  \n",
      "75%      NaN      NaN       NaN    NaN    221.000000  \n",
      "max      NaN      NaN       NaN    NaN    924.000000  \n",
      "               order_id       qty      price     revenue  daily_visits\n",
      "category                                                              \n",
      "apparel      527.490196  3.110553  50.987750  161.848382    200.578431\n",
      "beauty       496.302326  3.143564  51.885072  164.331023    198.227907\n",
      "electronics  510.795918  2.849741  52.740471  154.144694    204.857143\n",
      "grocery      460.234694  3.010695  52.397819  151.212908    206.821429\n",
      "home         507.222222  2.854839  55.749560  157.012434    204.978836\n"
     ]
    }
   ],
   "source": [
    "summary, grouped = get_summary_stats(df, group_col=\"category\")\n",
    "print(summary)\n",
    "if grouped is not None:\n",
    "    print(grouped)"
   ]
  },
  {
   "cell_type": "code",
   "execution_count": 40,
   "id": "52a1f74e",
   "metadata": {},
   "outputs": [
    {
     "name": "stdout",
     "output_type": "stream",
     "text": [
      "Saved outputs to /Users/yashu/Documents/Bootcamp/bootcamp_SaiKrishna_Sagi/homework/stage03_python-fundamentals/data/processed\n"
     ]
    }
   ],
   "source": [
    "summary.to_csv(PROCESSED_DIR / \"summary.csv\")\n",
    "summary.to_json(PROCESSED_DIR / \"summary.json\")\n",
    "\n",
    "if grouped is not None:\n",
    "    grouped.to_csv(PROCESSED_DIR / \"grouped.csv\")\n",
    "    grouped.to_json(PROCESSED_DIR / \"grouped.json\")\n",
    "\n",
    "print(\"Saved outputs to\", PROCESSED_DIR)\n"
   ]
  },
  {
   "cell_type": "code",
   "execution_count": 41,
   "id": "89149b1e",
   "metadata": {},
   "outputs": [
    {
     "data": {
      "image/png": "[encoded data removed]",
      "text/plain": [
       "<Figure size 640x480 with 1 Axes>"
      ]
     },
     "metadata": {},
     "output_type": "display_data"
    },
    {
     "name": "stdout",
     "output_type": "stream",
     "text": [
      "Histogram saved to /Users/yashu/Documents/Bootcamp/bootcamp_SaiKrishna_Sagi/homework/stage03_python-fundamentals/data/processed/hist_qty.png\n"
     ]
    }
   ],
   "source": [
    "# Bonus plot: save histogram of a useful numeric column\n",
    "num_cols = df.select_dtypes(include=\"number\").columns\n",
    "skip_cols = {\"order_id\", \"id\", \"index\"}  # avoid ID-like columns\n",
    "\n",
    "plot_col = next((c for c in num_cols if c not in skip_cols), None)\n",
    "\n",
    "if plot_col:\n",
    "    ax = df[plot_col].plot(kind=\"hist\", bins=20, title=f\"Histogram of {plot_col}\")\n",
    "    plt.xlabel(plot_col)\n",
    "    plt.ylabel(\"Frequency\")\n",
    "    plt.tight_layout()\n",
    "    \n",
    "    out_path = PROCESSED_DIR / f\"hist_{plot_col}.png\"\n",
    "    plt.savefig(out_path, dpi=150)\n",
    "    plt.show()\n",
    "    print(f\"Histogram saved to {out_path}\")\n",
    "else:\n",
    "    print(\"No suitable numeric columns to plot.\")\n"
   ]
  }
 ],
 "metadata": {
  "kernelspec": {
   "display_name": "bootcamp_env",
   "language": "python",
   "name": "python3"
  },
  "language_info": {
   "codemirror_mode": {
    "name": "ipython",
    "version": 3
   },
   "file_extension": ".py",
   "mimetype": "text/x-python",
   "name": "python",
   "nbconvert_exporter": "python",
   "pygments_lexer": "ipython3",
   "version": "3.10.18"
  }
 },
 "nbformat": 4,
 "nbformat_minor": 5
}
