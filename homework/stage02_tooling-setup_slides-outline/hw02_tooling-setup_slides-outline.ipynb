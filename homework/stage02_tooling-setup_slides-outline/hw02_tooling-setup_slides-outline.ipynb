{
 "cells": [
  {
   "cell_type": "code",
   "execution_count": 7,
   "id": "9a5219e8",
   "metadata": {},
   "outputs": [
    {
     "name": "stdout",
     "output_type": "stream",
     "text": [
      "API_KEY found: True\n"
     ]
    }
   ],
   "source": [
    "import sys\n",
    "import src.config as cfg\n",
    "\n",
    "try:\n",
    "    api_key = cfg.API_KEY\n",
    "    print(f\"API_KEY found: {bool(api_key)}\")\n",
    "except KeyError:\n",
    "    print(\"API_KEY not found!\")"
   ]
  },
  {
   "cell_type": "code",
   "execution_count": 8,
   "id": "04040053",
   "metadata": {},
   "outputs": [
    {
     "name": "stdout",
     "output_type": "stream",
     "text": [
      "Array mean: 30.0\n"
     ]
    }
   ],
   "source": [
    "import numpy as np\n",
    "arr = np.array([10, 20, 30, 40, 50])\n",
    "print(\"Array mean:\", arr.mean())"
   ]
  },
  {
   "cell_type": "code",
   "execution_count": null,
   "id": "b3b73a4d",
   "metadata": {},
   "outputs": [],
   "source": []
  }
 ],
 "metadata": {
  "kernelspec": {
   "display_name": "bootcamp_env",
   "language": "python",
   "name": "python3"
  },
  "language_info": {
   "codemirror_mode": {
    "name": "ipython",
    "version": 3
   },
   "file_extension": ".py",
   "mimetype": "text/x-python",
   "name": "python",
   "nbconvert_exporter": "python",
   "pygments_lexer": "ipython3",
   "version": "3.10.18"
  }
 },
 "nbformat": 4,
 "nbformat_minor": 5
}
