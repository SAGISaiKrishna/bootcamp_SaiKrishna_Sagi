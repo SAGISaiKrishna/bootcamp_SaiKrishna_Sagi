{
 "cells": [
  {
   "cell_type": "code",
   "execution_count": 1,
   "id": "bb2b05f8",
   "metadata": {},
   "outputs": [
    {
     "name": "stdout",
     "output_type": "stream",
     "text": [
      "ALPHAVANTAGE_API_KEY present: True\n"
     ]
    }
   ],
   "source": [
    "from pathlib import Path\n",
    "import os\n",
    "from dotenv import load_dotenv\n",
    "\n",
    "# import the four helpers\n",
    "import sys\n",
    "sys.path.append(\"src\")\n",
    "from ingest import load_api_data, scrape_table, validate_data, save_csv\n",
    "\n",
    "# folders\n",
    "RAW = Path(\"data/raw\")\n",
    "\n",
    "# secrets\n",
    "load_dotenv()\n",
    "print(\"ALPHAVANTAGE_API_KEY present:\", bool(os.getenv(\"ALPHAVANTAGE_API_KEY\")))\n"
   ]
  },
  {
   "cell_type": "code",
   "execution_count": 2,
   "id": "995234a6",
   "metadata": {},
   "outputs": [
    {
     "name": "stdout",
     "output_type": "stream",
     "text": [
      "Shape: (5, 7)\n",
      "NA counts:\n",
      " Date         0\n",
      "Adj Close    0\n",
      "Close        0\n",
      "High         0\n",
      "Low          0\n",
      "Open         0\n",
      "Volume       0\n",
      "dtype: int64\n",
      "Saved data/raw/api_yfinance_GOOG_20250827-0320.csv\n"
     ]
    },
    {
     "data": {
      "text/plain": [
       "'data/raw/api_yfinance_GOOG_20250827-0320.csv'"
      ]
     },
     "execution_count": 2,
     "metadata": {},
     "output_type": "execute_result"
    }
   ],
   "source": [
    "df_api = load_api_data(\"GOOG\")\n",
    "validate_data(df_api, required_cols=[\"Date\", \"Close\"])  # adjust if Adj Close exists\n",
    "save_csv(df_api, prefix=\"api_yfinance_GOOG\", out_dir=RAW)"
   ]
  },
  {
   "cell_type": "code",
   "execution_count": 3,
   "id": "4c41031b",
   "metadata": {},
   "outputs": [
    {
     "name": "stdout",
     "output_type": "stream",
     "text": [
      "Shape: (504, 8)\n",
      "NA counts:\n",
      " Symbol                   0\n",
      "Security                 0\n",
      "GICS Sector              0\n",
      "GICS Sub-Industry        0\n",
      "Headquarters Location    0\n",
      "Date added               0\n",
      "CIK                      0\n",
      "Founded                  0\n",
      "dtype: int64\n",
      "Saved data/raw/scrape_wikipedia_sp500_20250827-0320.csv\n"
     ]
    },
    {
     "name": "stderr",
     "output_type": "stream",
     "text": [
      "/Users/yashu/Documents/Bootcamp/bootcamp_SaiKrishna_Sagi/homework/stage04_data-acquisition-and-ingestion/src/ingest.py:48: FutureWarning: Passing literal html to 'read_html' is deprecated and will be removed in a future version. To read from a literal string, wrap it in a 'StringIO' object.\n",
      "  df = pd.read_html(str(node))[0]\n"
     ]
    },
    {
     "data": {
      "text/plain": [
       "'data/raw/scrape_wikipedia_sp500_20250827-0320.csv'"
      ]
     },
     "execution_count": 3,
     "metadata": {},
     "output_type": "execute_result"
    }
   ],
   "source": [
    "url = \"https://en.wikipedia.org/wiki/List_of_S%26P_500_companies\"\n",
    "df_scrape = scrape_table(url, css=\"table.wikitable\")  # simple permitted table\n",
    "validate_data(df_scrape, need_numeric=True, need_text=True)\n",
    "save_csv(df_scrape, prefix=\"scrape_wikipedia_sp500\", out_dir=RAW)"
   ]
  },
  {
   "cell_type": "code",
   "execution_count": 4,
   "id": "b5d67620",
   "metadata": {},
   "outputs": [
    {
     "name": "stdout",
     "output_type": "stream",
     "text": [
      "Sources and params:\n",
      "- API: yfinance download for AAPL, period=5d, interval=1d\n",
      "- Scrape: https://en.wikipedia.org/wiki/List_of_S%26P_500_companies selector: table.wikitable\n",
      "\n",
      "Validation:\n",
      "- API: required columns present, types parsed to datetime and float, non-empty\n",
      "- Scrape: at least one numeric and one text column, non-empty\n",
      "\n",
      "Reproducibility and secrets:\n",
      "- Saved raw files with timestamp in data/raw\n",
      "- Used .env locally and did not commit it\n",
      "\n",
      "Assumptions and risks:\n",
      "- API fields and HTML structure can change\n",
      "- Network failures can happen, rerun cell to retry\n",
      "- Respect site terms for scraping\n"
     ]
    }
   ],
   "source": [
    "print(\"Sources and params:\")\n",
    "print(\"- API: yfinance download for AAPL, period=5d, interval=1d\")\n",
    "print(\"- Scrape:\", url, \"selector: table.wikitable\")\n",
    "print(\"\\nValidation:\")\n",
    "print(\"- API: required columns present, types parsed to datetime and float, non-empty\")\n",
    "print(\"- Scrape: at least one numeric and one text column, non-empty\")\n",
    "print(\"\\nReproducibility and secrets:\")\n",
    "print(\"- Saved raw files with timestamp in data/raw\")\n",
    "print(\"- Used .env locally and did not commit it\")\n",
    "print(\"\\nAssumptions and risks:\")\n",
    "print(\"- API fields and HTML structure can change\")\n",
    "print(\"- Network failures can happen, rerun cell to retry\")\n",
    "print(\"- Respect site terms for scraping\")"
   ]
  }
 ],
 "metadata": {
  "kernelspec": {
   "display_name": "bootcamp_env",
   "language": "python",
   "name": "python3"
  },
  "language_info": {
   "codemirror_mode": {
    "name": "ipython",
    "version": 3
   },
   "file_extension": ".py",
   "mimetype": "text/x-python",
   "name": "python",
   "nbconvert_exporter": "python",
   "pygments_lexer": "ipython3",
   "version": "3.10.18"
  }
 },
 "nbformat": 4,
 "nbformat_minor": 5
}
